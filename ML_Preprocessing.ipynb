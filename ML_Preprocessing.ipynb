{
 "cells": [
  {
   "cell_type": "markdown",
   "metadata": {},
   "source": [
    "# Preprocesamiento Machine Learning"
   ]
  },
  {
   "cell_type": "markdown",
   "metadata": {},
   "source": [
    "## Importamos"
   ]
  },
  {
   "cell_type": "code",
   "execution_count": 250,
   "metadata": {},
   "outputs": [],
   "source": [
    "import pandas as pd\n",
    "import numpy as np\n",
    "import matplotlib.pyplot as plt\n",
    "import seaborn as sns\n",
    "import string\n",
    "from sklearn.model_selection import train_test_split\n",
    "from sklearn.metrics import classification_report"
   ]
  },
  {
   "cell_type": "code",
   "execution_count": 251,
   "metadata": {},
   "outputs": [],
   "source": [
    "df = pd.read_csv('main(out).csv')"
   ]
  },
  {
   "cell_type": "markdown",
   "metadata": {},
   "source": [
    "## Label encoder"
   ]
  },
  {
   "cell_type": "markdown",
   "metadata": {},
   "source": [
    "### Creamos diccionarios para cada variable a la que queremos aplicar el label encoder"
   ]
  },
  {
   "cell_type": "code",
   "execution_count": 252,
   "metadata": {},
   "outputs": [],
   "source": [
    "diccionario_own_car_realty = {\"Y\": 1, \"N\": 0}\n",
    "diccionario_gender = {\"M\": 1, \"F\": 0}\n",
    "\n",
    "columns_to_encode = [\"FLAG_OWN_CAR\", \"FLAG_OWN_REALTY\", \"CODE_GENDER\"]\n",
    "for i in columns_to_encode:\n",
    "    if i != \"CODE_GENDER\":\n",
    "        df[i] = df[i].map(diccionario_own_car_realty)\n",
    "    else:\n",
    "        df[i] = df[i].map(diccionario_gender)"
   ]
  },
  {
   "cell_type": "code",
   "execution_count": 253,
   "metadata": {},
   "outputs": [],
   "source": [
    "diccionario_income = {\"Working\": 0, \"State servant\": 1, \"Pensioner\": 2, \"Commercial associate\": 3, \"Unemployed\": 4, \"Student\": 5}\n",
    "diccionario_education = {\"Higher education\": 0, \"Secondary / secondary special\": 1, \"Incomplete higher\": 2, \"Lower secondary\": 3, \"Academic degree\": 4}\n",
    "diccionario_housing = {\"Rented apartment\": 0, \"House / apartment\": 1, \"Municipal apartment\": 2, \"With parents\": 3, \"Co-op apartment\": 4, \"Office apartment\": 5}\n",
    "diccionario_family = {\"Single / not married\": 0, \"Married\": 1, \"Civil marriage\": 2, \"Separated\": 3, \"Widow\": 4}\n",
    "diccionario_ocupation = {\"Laborers\":0, \"Medicine staff\":1, \"Sales staff\": 2, \"Security staff\":3, \"Core staff\":4, \"Drivers\":5, \"Accountants\":6\n",
    "                         , \"Managers\":7, \"High skill tech staff\":8, \"Cleaning staff\":9, \"Private service staff\":10, \"Cooking staff\":11\n",
    "                         , \"Low-skill Laborers\":12, \"Waiters/barmen staff\":13, \"HR staff\":14, \"Realty agents\":15, \"Secretaries\":16, \"IT staff\": 17}\n",
    "\n",
    "df[\"NAME_INCOME_TYPE\"] = df[\"NAME_INCOME_TYPE\"].map(diccionario_income)\n",
    "df[\"NAME_EDUCATION_TYPE\"] = df[\"NAME_EDUCATION_TYPE\"].map(diccionario_education)\n",
    "df[\"OCCUPATION_TYPE\"] = df[\"OCCUPATION_TYPE\"].map(diccionario_ocupation)\n",
    "df[\"NAME_HOUSING_TYPE\"] = df[\"NAME_HOUSING_TYPE\"].map(diccionario_housing)\n",
    "df[\"NAME_FAMILY_STATUS\"] = df[\"NAME_FAMILY_STATUS\"].map(diccionario_family)"
   ]
  },
  {
   "cell_type": "code",
   "execution_count": 254,
   "metadata": {},
   "outputs": [
    {
     "data": {
      "text/plain": [
       "STATUS\n",
       "0    32127\n",
       "X    19742\n",
       "C    18049\n",
       "1     4180\n",
       "2      555\n",
       "3      248\n",
       "4      181\n",
       "5      180\n",
       "Name: count, dtype: int64"
      ]
     },
     "execution_count": 254,
     "metadata": {},
     "output_type": "execute_result"
    }
   ],
   "source": [
    "df[\"STATUS\"].value_counts()"
   ]
  },
  {
   "cell_type": "code",
   "execution_count": 255,
   "metadata": {},
   "outputs": [
    {
     "data": {
      "text/plain": [
       "STATUS\n",
       " 0    32127\n",
       "-2    19742\n",
       "-1    18049\n",
       " 1     4180\n",
       " 2      555\n",
       " 3      248\n",
       " 4      181\n",
       " 5      180\n",
       "Name: count, dtype: int64"
      ]
     },
     "execution_count": 255,
     "metadata": {},
     "output_type": "execute_result"
    }
   ],
   "source": [
    "diccionario_STATUS = {\"C\": -1, \"X\": -2, \"0\": 0, \"1\": 1, \"2\": 2, \"3\": 3, \"4\": 4, \"5\": 5}\n",
    "df[\"STATUS\"] = df[\"STATUS\"].map(diccionario_STATUS)\n",
    "df[\"STATUS\"] = df[\"STATUS\"].astype(int)\n",
    "df[\"STATUS\"].value_counts()"
   ]
  },
  {
   "cell_type": "code",
   "execution_count": 256,
   "metadata": {},
   "outputs": [
    {
     "data": {
      "text/html": [
       "<div>\n",
       "<style scoped>\n",
       "    .dataframe tbody tr th:only-of-type {\n",
       "        vertical-align: middle;\n",
       "    }\n",
       "\n",
       "    .dataframe tbody tr th {\n",
       "        vertical-align: top;\n",
       "    }\n",
       "\n",
       "    .dataframe thead th {\n",
       "        text-align: right;\n",
       "    }\n",
       "</style>\n",
       "<table border=\"1\" class=\"dataframe\">\n",
       "  <thead>\n",
       "    <tr style=\"text-align: right;\">\n",
       "      <th></th>\n",
       "      <th>ID</th>\n",
       "      <th>ADDRESS</th>\n",
       "      <th>CODE_GENDER</th>\n",
       "      <th>FLAG_OWN_CAR</th>\n",
       "      <th>FLAG_OWN_REALTY</th>\n",
       "      <th>CNT_CHILDREN</th>\n",
       "      <th>AMT_INCOME_TOTAL</th>\n",
       "      <th>NAME_INCOME_TYPE</th>\n",
       "      <th>NAME_EDUCATION_TYPE</th>\n",
       "      <th>NAME_FAMILY_STATUS</th>\n",
       "      <th>...</th>\n",
       "      <th>FLAG_MOBIL</th>\n",
       "      <th>FLAG_WORK_PHONE</th>\n",
       "      <th>FLAG_PHONE</th>\n",
       "      <th>FLAG_EMAIL</th>\n",
       "      <th>OCCUPATION_TYPE</th>\n",
       "      <th>CNT_FAM_MEMBERS</th>\n",
       "      <th>DAYS_BIRTH_CLEAN</th>\n",
       "      <th>Letter</th>\n",
       "      <th>STATUS</th>\n",
       "      <th>MONTHS_BALANCE</th>\n",
       "    </tr>\n",
       "  </thead>\n",
       "  <tbody>\n",
       "    <tr>\n",
       "      <th>0</th>\n",
       "      <td>5008804</td>\n",
       "      <td>06042, CT, 31 Mitchell Road</td>\n",
       "      <td>1</td>\n",
       "      <td>1</td>\n",
       "      <td>1</td>\n",
       "      <td>0</td>\n",
       "      <td>225000.0</td>\n",
       "      <td>0</td>\n",
       "      <td>0</td>\n",
       "      <td>2</td>\n",
       "      <td>...</td>\n",
       "      <td>1</td>\n",
       "      <td>1</td>\n",
       "      <td>0</td>\n",
       "      <td>0</td>\n",
       "      <td>0</td>\n",
       "      <td>2</td>\n",
       "      <td>1990-09-04</td>\n",
       "      <td>L</td>\n",
       "      <td>0</td>\n",
       "      <td>1</td>\n",
       "    </tr>\n",
       "    <tr>\n",
       "      <th>1</th>\n",
       "      <td>5008804</td>\n",
       "      <td>06042, CT, 31 Mitchell Road</td>\n",
       "      <td>1</td>\n",
       "      <td>1</td>\n",
       "      <td>1</td>\n",
       "      <td>0</td>\n",
       "      <td>225000.0</td>\n",
       "      <td>0</td>\n",
       "      <td>0</td>\n",
       "      <td>2</td>\n",
       "      <td>...</td>\n",
       "      <td>1</td>\n",
       "      <td>1</td>\n",
       "      <td>0</td>\n",
       "      <td>0</td>\n",
       "      <td>0</td>\n",
       "      <td>2</td>\n",
       "      <td>1990-09-04</td>\n",
       "      <td>L</td>\n",
       "      <td>1</td>\n",
       "      <td>1</td>\n",
       "    </tr>\n",
       "    <tr>\n",
       "      <th>2</th>\n",
       "      <td>5008804</td>\n",
       "      <td>06042, CT, 31 Mitchell Road</td>\n",
       "      <td>1</td>\n",
       "      <td>1</td>\n",
       "      <td>1</td>\n",
       "      <td>0</td>\n",
       "      <td>225000.0</td>\n",
       "      <td>0</td>\n",
       "      <td>0</td>\n",
       "      <td>2</td>\n",
       "      <td>...</td>\n",
       "      <td>1</td>\n",
       "      <td>1</td>\n",
       "      <td>0</td>\n",
       "      <td>0</td>\n",
       "      <td>0</td>\n",
       "      <td>2</td>\n",
       "      <td>1990-09-04</td>\n",
       "      <td>L</td>\n",
       "      <td>-1</td>\n",
       "      <td>13</td>\n",
       "    </tr>\n",
       "    <tr>\n",
       "      <th>3</th>\n",
       "      <td>5008804</td>\n",
       "      <td>06042, CT, 31 Mitchell Road</td>\n",
       "      <td>1</td>\n",
       "      <td>1</td>\n",
       "      <td>1</td>\n",
       "      <td>0</td>\n",
       "      <td>225000.0</td>\n",
       "      <td>0</td>\n",
       "      <td>0</td>\n",
       "      <td>2</td>\n",
       "      <td>...</td>\n",
       "      <td>1</td>\n",
       "      <td>1</td>\n",
       "      <td>0</td>\n",
       "      <td>0</td>\n",
       "      <td>0</td>\n",
       "      <td>2</td>\n",
       "      <td>1990-09-04</td>\n",
       "      <td>L</td>\n",
       "      <td>-2</td>\n",
       "      <td>1</td>\n",
       "    </tr>\n",
       "    <tr>\n",
       "      <th>4</th>\n",
       "      <td>5008804</td>\n",
       "      <td>06042, CT, 31 Mitchell Road</td>\n",
       "      <td>0</td>\n",
       "      <td>0</td>\n",
       "      <td>1</td>\n",
       "      <td>1</td>\n",
       "      <td>90000.0</td>\n",
       "      <td>1</td>\n",
       "      <td>1</td>\n",
       "      <td>1</td>\n",
       "      <td>...</td>\n",
       "      <td>1</td>\n",
       "      <td>0</td>\n",
       "      <td>0</td>\n",
       "      <td>0</td>\n",
       "      <td>1</td>\n",
       "      <td>3</td>\n",
       "      <td>1984-07-06</td>\n",
       "      <td>L</td>\n",
       "      <td>0</td>\n",
       "      <td>1</td>\n",
       "    </tr>\n",
       "  </tbody>\n",
       "</table>\n",
       "<p>5 rows × 22 columns</p>\n",
       "</div>"
      ],
      "text/plain": [
       "        ID                      ADDRESS  CODE_GENDER  FLAG_OWN_CAR  \\\n",
       "0  5008804  06042, CT, 31 Mitchell Road            1             1   \n",
       "1  5008804  06042, CT, 31 Mitchell Road            1             1   \n",
       "2  5008804  06042, CT, 31 Mitchell Road            1             1   \n",
       "3  5008804  06042, CT, 31 Mitchell Road            1             1   \n",
       "4  5008804  06042, CT, 31 Mitchell Road            0             0   \n",
       "\n",
       "   FLAG_OWN_REALTY  CNT_CHILDREN  AMT_INCOME_TOTAL  NAME_INCOME_TYPE  \\\n",
       "0                1             0          225000.0                 0   \n",
       "1                1             0          225000.0                 0   \n",
       "2                1             0          225000.0                 0   \n",
       "3                1             0          225000.0                 0   \n",
       "4                1             1           90000.0                 1   \n",
       "\n",
       "   NAME_EDUCATION_TYPE  NAME_FAMILY_STATUS  ...  FLAG_MOBIL  FLAG_WORK_PHONE  \\\n",
       "0                    0                   2  ...           1                1   \n",
       "1                    0                   2  ...           1                1   \n",
       "2                    0                   2  ...           1                1   \n",
       "3                    0                   2  ...           1                1   \n",
       "4                    1                   1  ...           1                0   \n",
       "\n",
       "   FLAG_PHONE  FLAG_EMAIL  OCCUPATION_TYPE  CNT_FAM_MEMBERS  DAYS_BIRTH_CLEAN  \\\n",
       "0           0           0                0                2        1990-09-04   \n",
       "1           0           0                0                2        1990-09-04   \n",
       "2           0           0                0                2        1990-09-04   \n",
       "3           0           0                0                2        1990-09-04   \n",
       "4           0           0                1                3        1984-07-06   \n",
       "\n",
       "   Letter STATUS MONTHS_BALANCE  \n",
       "0       L      0              1  \n",
       "1       L      1              1  \n",
       "2       L     -1             13  \n",
       "3       L     -2              1  \n",
       "4       L      0              1  \n",
       "\n",
       "[5 rows x 22 columns]"
      ]
     },
     "execution_count": 256,
     "metadata": {},
     "output_type": "execute_result"
    }
   ],
   "source": [
    "df.head()"
   ]
  },
  {
   "cell_type": "markdown",
   "metadata": {},
   "source": [
    "## Normalizamos variables"
   ]
  },
  {
   "cell_type": "markdown",
   "metadata": {},
   "source": [
    "### Los modelos por norma general funcionan mejor al normalizar las variables continuas, así que normalizamos AMT_INCOME_TOTAL y DAYS_EMPLOYED"
   ]
  },
  {
   "cell_type": "code",
   "execution_count": 257,
   "metadata": {},
   "outputs": [],
   "source": [
    "columns_to_normalize=[\"AMT_INCOME_TOTAL\", \"DAYS_EMPLOYED\"]\n",
    "\n",
    "for i in columns_to_normalize:\n",
    "    df[i] = (df[i] - df[i].mean()) / df[i].std()"
   ]
  },
  {
   "cell_type": "markdown",
   "metadata": {},
   "source": [
    "## Eliminamos columnas inútiles"
   ]
  },
  {
   "cell_type": "markdown",
   "metadata": {},
   "source": [
    "### El modelo sólo soporta valores numéricos así que eliminamos las variables a las que no tiene sentido hacer un label encoder. Además, aprovechamos para eliminar la columna ID que no aporta nada a la hora de predecir"
   ]
  },
  {
   "cell_type": "code",
   "execution_count": 258,
   "metadata": {},
   "outputs": [],
   "source": [
    "df.drop(columns=[\"ADDRESS\", \"Letter\", \"DAYS_BIRTH_CLEAN\", \"ID\"], inplace=True)"
   ]
  },
  {
   "cell_type": "code",
   "execution_count": 259,
   "metadata": {},
   "outputs": [
    {
     "data": {
      "text/html": [
       "<div>\n",
       "<style scoped>\n",
       "    .dataframe tbody tr th:only-of-type {\n",
       "        vertical-align: middle;\n",
       "    }\n",
       "\n",
       "    .dataframe tbody tr th {\n",
       "        vertical-align: top;\n",
       "    }\n",
       "\n",
       "    .dataframe thead th {\n",
       "        text-align: right;\n",
       "    }\n",
       "</style>\n",
       "<table border=\"1\" class=\"dataframe\">\n",
       "  <thead>\n",
       "    <tr style=\"text-align: right;\">\n",
       "      <th></th>\n",
       "      <th>CODE_GENDER</th>\n",
       "      <th>FLAG_OWN_CAR</th>\n",
       "      <th>FLAG_OWN_REALTY</th>\n",
       "      <th>CNT_CHILDREN</th>\n",
       "      <th>AMT_INCOME_TOTAL</th>\n",
       "      <th>NAME_INCOME_TYPE</th>\n",
       "      <th>NAME_EDUCATION_TYPE</th>\n",
       "      <th>NAME_FAMILY_STATUS</th>\n",
       "      <th>NAME_HOUSING_TYPE</th>\n",
       "      <th>DAYS_EMPLOYED</th>\n",
       "      <th>FLAG_MOBIL</th>\n",
       "      <th>FLAG_WORK_PHONE</th>\n",
       "      <th>FLAG_PHONE</th>\n",
       "      <th>FLAG_EMAIL</th>\n",
       "      <th>OCCUPATION_TYPE</th>\n",
       "      <th>CNT_FAM_MEMBERS</th>\n",
       "      <th>STATUS</th>\n",
       "      <th>MONTHS_BALANCE</th>\n",
       "    </tr>\n",
       "  </thead>\n",
       "  <tbody>\n",
       "    <tr>\n",
       "      <th>0</th>\n",
       "      <td>1</td>\n",
       "      <td>1</td>\n",
       "      <td>1</td>\n",
       "      <td>0</td>\n",
       "      <td>0.712033</td>\n",
       "      <td>0</td>\n",
       "      <td>0</td>\n",
       "      <td>2</td>\n",
       "      <td>0</td>\n",
       "      <td>0.418516</td>\n",
       "      <td>1</td>\n",
       "      <td>1</td>\n",
       "      <td>0</td>\n",
       "      <td>0</td>\n",
       "      <td>0</td>\n",
       "      <td>2</td>\n",
       "      <td>0</td>\n",
       "      <td>1</td>\n",
       "    </tr>\n",
       "    <tr>\n",
       "      <th>1</th>\n",
       "      <td>1</td>\n",
       "      <td>1</td>\n",
       "      <td>1</td>\n",
       "      <td>0</td>\n",
       "      <td>0.712033</td>\n",
       "      <td>0</td>\n",
       "      <td>0</td>\n",
       "      <td>2</td>\n",
       "      <td>0</td>\n",
       "      <td>0.418516</td>\n",
       "      <td>1</td>\n",
       "      <td>1</td>\n",
       "      <td>0</td>\n",
       "      <td>0</td>\n",
       "      <td>0</td>\n",
       "      <td>2</td>\n",
       "      <td>1</td>\n",
       "      <td>1</td>\n",
       "    </tr>\n",
       "    <tr>\n",
       "      <th>2</th>\n",
       "      <td>1</td>\n",
       "      <td>1</td>\n",
       "      <td>1</td>\n",
       "      <td>0</td>\n",
       "      <td>0.712033</td>\n",
       "      <td>0</td>\n",
       "      <td>0</td>\n",
       "      <td>2</td>\n",
       "      <td>0</td>\n",
       "      <td>0.418516</td>\n",
       "      <td>1</td>\n",
       "      <td>1</td>\n",
       "      <td>0</td>\n",
       "      <td>0</td>\n",
       "      <td>0</td>\n",
       "      <td>2</td>\n",
       "      <td>-1</td>\n",
       "      <td>13</td>\n",
       "    </tr>\n",
       "    <tr>\n",
       "      <th>3</th>\n",
       "      <td>1</td>\n",
       "      <td>1</td>\n",
       "      <td>1</td>\n",
       "      <td>0</td>\n",
       "      <td>0.712033</td>\n",
       "      <td>0</td>\n",
       "      <td>0</td>\n",
       "      <td>2</td>\n",
       "      <td>0</td>\n",
       "      <td>0.418516</td>\n",
       "      <td>1</td>\n",
       "      <td>1</td>\n",
       "      <td>0</td>\n",
       "      <td>0</td>\n",
       "      <td>0</td>\n",
       "      <td>2</td>\n",
       "      <td>-2</td>\n",
       "      <td>1</td>\n",
       "    </tr>\n",
       "    <tr>\n",
       "      <th>4</th>\n",
       "      <td>0</td>\n",
       "      <td>0</td>\n",
       "      <td>1</td>\n",
       "      <td>1</td>\n",
       "      <td>-1.223188</td>\n",
       "      <td>1</td>\n",
       "      <td>1</td>\n",
       "      <td>1</td>\n",
       "      <td>1</td>\n",
       "      <td>0.085817</td>\n",
       "      <td>1</td>\n",
       "      <td>0</td>\n",
       "      <td>0</td>\n",
       "      <td>0</td>\n",
       "      <td>1</td>\n",
       "      <td>3</td>\n",
       "      <td>0</td>\n",
       "      <td>1</td>\n",
       "    </tr>\n",
       "  </tbody>\n",
       "</table>\n",
       "</div>"
      ],
      "text/plain": [
       "   CODE_GENDER  FLAG_OWN_CAR  FLAG_OWN_REALTY  CNT_CHILDREN  AMT_INCOME_TOTAL  \\\n",
       "0            1             1                1             0          0.712033   \n",
       "1            1             1                1             0          0.712033   \n",
       "2            1             1                1             0          0.712033   \n",
       "3            1             1                1             0          0.712033   \n",
       "4            0             0                1             1         -1.223188   \n",
       "\n",
       "   NAME_INCOME_TYPE  NAME_EDUCATION_TYPE  NAME_FAMILY_STATUS  \\\n",
       "0                 0                    0                   2   \n",
       "1                 0                    0                   2   \n",
       "2                 0                    0                   2   \n",
       "3                 0                    0                   2   \n",
       "4                 1                    1                   1   \n",
       "\n",
       "   NAME_HOUSING_TYPE  DAYS_EMPLOYED  FLAG_MOBIL  FLAG_WORK_PHONE  FLAG_PHONE  \\\n",
       "0                  0       0.418516           1                1           0   \n",
       "1                  0       0.418516           1                1           0   \n",
       "2                  0       0.418516           1                1           0   \n",
       "3                  0       0.418516           1                1           0   \n",
       "4                  1       0.085817           1                0           0   \n",
       "\n",
       "   FLAG_EMAIL  OCCUPATION_TYPE  CNT_FAM_MEMBERS  STATUS  MONTHS_BALANCE  \n",
       "0           0                0                2       0               1  \n",
       "1           0                0                2       1               1  \n",
       "2           0                0                2      -1              13  \n",
       "3           0                0                2      -2               1  \n",
       "4           0                1                3       0               1  "
      ]
     },
     "execution_count": 259,
     "metadata": {},
     "output_type": "execute_result"
    }
   ],
   "source": [
    "df.head()"
   ]
  },
  {
   "cell_type": "markdown",
   "metadata": {},
   "source": [
    "## Entrenamos y ejecutamos el modelo"
   ]
  },
  {
   "cell_type": "code",
   "execution_count": 261,
   "metadata": {},
   "outputs": [],
   "source": [
    "X, y = df.drop(columns={\"STATUS\"}, axis=1), df['STATUS'] # Nuestra variable objetivo es STATUS\n",
    "X_train, X_test, y_train, y_test = train_test_split(X, y, test_size = .25)"
   ]
  },
  {
   "cell_type": "markdown",
   "metadata": {},
   "source": [
    "### Observamos que el modelo tiene un accuracy de 0.6, por lo que es demasiado bajo"
   ]
  },
  {
   "cell_type": "code",
   "execution_count": 262,
   "metadata": {},
   "outputs": [
    {
     "name": "stdout",
     "output_type": "stream",
     "text": [
      "              precision    recall  f1-score   support\n",
      "\n",
      "          -2       0.60      0.56      0.58      4986\n",
      "          -1       0.58      0.52      0.55      4574\n",
      "           0       0.63      0.72      0.67      7972\n",
      "           1       0.43      0.29      0.35       975\n",
      "           2       0.25      0.17      0.20       146\n",
      "           3       0.08      0.08      0.08        61\n",
      "           4       0.09      0.06      0.07        52\n",
      "           5       0.38      0.16      0.23        50\n",
      "\n",
      "    accuracy                           0.60     18816\n",
      "   macro avg       0.38      0.32      0.34     18816\n",
      "weighted avg       0.59      0.60      0.59     18816\n",
      "\n"
     ]
    }
   ],
   "source": [
    "from sklearn.ensemble import RandomForestClassifier\n",
    "RFC = RandomForestClassifier()\n",
    "RFC.fit(X_train, y_train)\n",
    "y_preds = RFC.predict(X_test)\n",
    "print(classification_report(y_test, y_preds))"
   ]
  },
  {
   "cell_type": "code",
   "execution_count": 284,
   "metadata": {},
   "outputs": [
    {
     "data": {
      "image/png": "[encoded data removed]",
      "text/plain": [
       "<Figure size 800x500 with 1 Axes>"
      ]
     },
     "metadata": {},
     "output_type": "display_data"
    }
   ],
   "source": [
    "from sklearn.metrics import roc_curve, roc_auc_score\n",
    "from sklearn.preprocessing import label_binarize\n",
    "import matplotlib.pyplot as plt\n",
    "import numpy as np\n",
    "\n",
    "# Suponiendo que y_test es multiclase, binarizamos las etiquetas\n",
    "y_test_binarized = label_binarize(y_test, classes=np.unique(y_test))\n",
    "\n",
    "# Predecimos probabilidades para cada clase\n",
    "y_pred_prob = RFC.predict_proba(X_test)\n",
    "\n",
    "# Calculamos AUC y dibujamos la curva ROC para cada clase\n",
    "plt.figure(figsize=(8, 5))\n",
    "\n",
    "for i in range(y_test_binarized.shape[1]):  # Iteramos sobre cada clase\n",
    "    # Calculamos la curva ROC y AUC para la clase i\n",
    "    fpr, tpr, _ = roc_curve(y_test_binarized[:, i], y_pred_prob[:, i])\n",
    "    auc = roc_auc_score(y_test_binarized[:, i], y_pred_prob[:, i])\n",
    "    \n",
    "    # Dibujamos la curva ROC para la clase i\n",
    "    plt.plot(fpr, tpr, marker='.', label=f'Clase {i} AUC={auc:.2f}')\n",
    "\n",
    "plt.xlabel('False Positive Rate')\n",
    "plt.ylabel('True Positive Rate')\n",
    "plt.title('Curva ROC por Clase')\n",
    "plt.legend()\n",
    "plt.show()"
   ]
  },
  {
   "cell_type": "markdown",
   "metadata": {},
   "source": [
    "## Conclusiones"
   ]
  },
  {
   "cell_type": "markdown",
   "metadata": {},
   "source": [
    "### El modelo que hemos entrenado no nos permite predecir con exactitud el estado de la cuenta anterior del cliente, por lo que ofrecer un fraccionamiento de prima gratuito en base a este podría no dar los resultados esperados."
   ]
  }
 ],
 "metadata": {
  "kernelspec": {
   "display_name": "mi_entorno",
   "language": "python",
   "name": "python3"
  },
  "language_info": {
   "codemirror_mode": {
    "name": "ipython",
    "version": 3
   },
   "file_extension": ".py",
   "mimetype": "text/x-python",
   "name": "python",
   "nbconvert_exporter": "python",
   "pygments_lexer": "ipython3",
   "version": "3.11.9"
  }
 },
 "nbformat": 4,
 "nbformat_minor": 2
}
